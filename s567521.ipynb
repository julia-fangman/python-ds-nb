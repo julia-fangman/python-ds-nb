{
 "cells": [
  {
   "cell_type": "markdown",
   "id": "be93b04b-da35-4836-a5b0-f379ce31789b",
   "metadata": {},
   "source": [
    "# My Name: Julia Fangman"
   ]
  },
  {
   "cell_type": "markdown",
   "id": "77b89582-83c4-4c42-95d2-759d9f15eec9",
   "metadata": {},
   "source": [
    "## Github Repo Link: https://github.com/julia-fangman/python-ds-nb "
   ]
  },
  {
   "cell_type": "code",
   "execution_count": 4,
   "id": "8bc2b969-d086-4f32-b921-bc7d3e5fcf50",
   "metadata": {},
   "outputs": [
    {
     "name": "stdout",
     "output_type": "stream",
     "text": [
      "*      *\n",
      "**    **\n",
      "***  ***\n",
      "********\n"
     ]
    }
   ],
   "source": [
    "# Define the height of the pattern\n",
    "height = 4\n",
    "\n",
    "# Loop through each row\n",
    "for row in range(1, height + 1):\n",
    "    # Print left half of the pattern\n",
    "    for col in range(row):\n",
    "        print('*', end='')\n",
    "    # Print spaces in the middle\n",
    "    for space in range(2 * (height - row)):\n",
    "        print(' ', end='')\n",
    "    # Print right half of the pattern\n",
    "    for col in range(row):\n",
    "        print('*', end='')\n",
    "    # Move to the next line after each row is printed\n",
    "    print()\n"
   ]
  }
 ],
 "metadata": {
  "kernelspec": {
   "display_name": "Python 3 (ipykernel)",
   "language": "python",
   "name": "python3"
  },
  "language_info": {
   "codemirror_mode": {
    "name": "ipython",
    "version": 3
   },
   "file_extension": ".py",
   "mimetype": "text/x-python",
   "name": "python",
   "nbconvert_exporter": "python",
   "pygments_lexer": "ipython3",
   "version": "3.11.4"
  }
 },
 "nbformat": 4,
 "nbformat_minor": 5
}
